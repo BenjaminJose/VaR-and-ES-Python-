{
 "cells": [
  {
   "cell_type": "markdown",
   "metadata": {},
   "source": [
    "Value at risk (VaR) is a statistic that quantifies the extent of possible financial losses within a firm, portfolio, or position over a specific time frame.\n",
    "\n",
    "Value at Risk (VaR) estimates the maximum potential loss for a portfolio or position over a given time period, at a specific confidence level. For example, if a portfolio has a 10-day VaR of 2% at a 95% confidence level, this means there is a 5% chance that the portfolio could lose more than 2% in value in 10 days.\n",
    "\n",
    "\n",
    "Expected Shortfall, also known as the Conditional Value at Risk (CVaR), is a risk assessment measure that quantifies the amount of tail risk an investment portfolio has. CVaR is derived by taking a weighted average of the “extreme” losses in the tail of the distribution of possible returns, beyond the value at risk (VaR) cutoff point.\n",
    "\n",
    "ES focuses on the tail risk, capturing the average of those extreme losses that occur beyond the initial VaR limit, providing a deeper insight into potential worst-case outcomes."
   ]
  },
  {
   "cell_type": "code",
   "execution_count": 1,
   "metadata": {},
   "outputs": [],
   "source": [
    "import yfinance as yf\n",
    "import pandas as pd\n",
    "import numpy as np\n",
    "import datetime as dt\n",
    "import matplotlib.pyplot as plt"
   ]
  },
  {
   "cell_type": "code",
   "execution_count": 2,
   "metadata": {},
   "outputs": [
    {
     "name": "stderr",
     "output_type": "stream",
     "text": [
      "[*********************100%***********************]  8 of 8 completed\n"
     ]
    },
    {
     "data": {
      "text/html": [
       "<div>\n",
       "<style scoped>\n",
       "    .dataframe tbody tr th:only-of-type {\n",
       "        vertical-align: middle;\n",
       "    }\n",
       "\n",
       "    .dataframe tbody tr th {\n",
       "        vertical-align: top;\n",
       "    }\n",
       "\n",
       "    .dataframe thead th {\n",
       "        text-align: right;\n",
       "    }\n",
       "</style>\n",
       "<table border=\"1\" class=\"dataframe\">\n",
       "  <thead>\n",
       "    <tr style=\"text-align: right;\">\n",
       "      <th>Ticker</th>\n",
       "      <th>BPCL.NS</th>\n",
       "      <th>HDFCBANK.NS</th>\n",
       "      <th>INFY.NS</th>\n",
       "      <th>KOTAKBANK.NS</th>\n",
       "      <th>NTPC.NS</th>\n",
       "      <th>RELIANCE.NS</th>\n",
       "      <th>TATASTEEL.NS</th>\n",
       "      <th>TCS.NS</th>\n",
       "    </tr>\n",
       "    <tr>\n",
       "      <th>Date</th>\n",
       "      <th></th>\n",
       "      <th></th>\n",
       "      <th></th>\n",
       "      <th></th>\n",
       "      <th></th>\n",
       "      <th></th>\n",
       "      <th></th>\n",
       "      <th></th>\n",
       "    </tr>\n",
       "  </thead>\n",
       "  <tbody>\n",
       "    <tr>\n",
       "      <th>2014-09-12 00:00:00+00:00</th>\n",
       "      <td>64.097000</td>\n",
       "      <td>395.779510</td>\n",
       "      <td>354.335693</td>\n",
       "      <td>531.359863</td>\n",
       "      <td>75.833572</td>\n",
       "      <td>436.388062</td>\n",
       "      <td>17.673925</td>\n",
       "      <td>1116.335938</td>\n",
       "    </tr>\n",
       "    <tr>\n",
       "      <th>2014-09-15 00:00:00+00:00</th>\n",
       "      <td>64.115768</td>\n",
       "      <td>397.930176</td>\n",
       "      <td>351.574341</td>\n",
       "      <td>519.904236</td>\n",
       "      <td>74.815132</td>\n",
       "      <td>430.866577</td>\n",
       "      <td>17.391319</td>\n",
       "      <td>1095.230225</td>\n",
       "    </tr>\n",
       "    <tr>\n",
       "      <th>2014-09-16 00:00:00+00:00</th>\n",
       "      <td>60.986691</td>\n",
       "      <td>393.605652</td>\n",
       "      <td>352.535034</td>\n",
       "      <td>510.635315</td>\n",
       "      <td>72.750702</td>\n",
       "      <td>420.833496</td>\n",
       "      <td>16.790146</td>\n",
       "      <td>1092.041016</td>\n",
       "    </tr>\n",
       "    <tr>\n",
       "      <th>2014-09-17 00:00:00+00:00</th>\n",
       "      <td>59.949917</td>\n",
       "      <td>391.478088</td>\n",
       "      <td>361.205475</td>\n",
       "      <td>507.901825</td>\n",
       "      <td>73.576492</td>\n",
       "      <td>424.808044</td>\n",
       "      <td>17.072748</td>\n",
       "      <td>1109.314697</td>\n",
       "    </tr>\n",
       "    <tr>\n",
       "      <th>2014-09-18 00:00:00+00:00</th>\n",
       "      <td>62.140743</td>\n",
       "      <td>396.912659</td>\n",
       "      <td>356.952271</td>\n",
       "      <td>520.699463</td>\n",
       "      <td>75.365646</td>\n",
       "      <td>431.790466</td>\n",
       "      <td>17.314247</td>\n",
       "      <td>1131.191284</td>\n",
       "    </tr>\n",
       "  </tbody>\n",
       "</table>\n",
       "</div>"
      ],
      "text/plain": [
       "Ticker                       BPCL.NS  HDFCBANK.NS     INFY.NS  KOTAKBANK.NS  \\\n",
       "Date                                                                          \n",
       "2014-09-12 00:00:00+00:00  64.097000   395.779510  354.335693    531.359863   \n",
       "2014-09-15 00:00:00+00:00  64.115768   397.930176  351.574341    519.904236   \n",
       "2014-09-16 00:00:00+00:00  60.986691   393.605652  352.535034    510.635315   \n",
       "2014-09-17 00:00:00+00:00  59.949917   391.478088  361.205475    507.901825   \n",
       "2014-09-18 00:00:00+00:00  62.140743   396.912659  356.952271    520.699463   \n",
       "\n",
       "Ticker                       NTPC.NS  RELIANCE.NS  TATASTEEL.NS       TCS.NS  \n",
       "Date                                                                          \n",
       "2014-09-12 00:00:00+00:00  75.833572   436.388062     17.673925  1116.335938  \n",
       "2014-09-15 00:00:00+00:00  74.815132   430.866577     17.391319  1095.230225  \n",
       "2014-09-16 00:00:00+00:00  72.750702   420.833496     16.790146  1092.041016  \n",
       "2014-09-17 00:00:00+00:00  73.576492   424.808044     17.072748  1109.314697  \n",
       "2014-09-18 00:00:00+00:00  75.365646   431.790466     17.314247  1131.191284  "
      ]
     },
     "execution_count": 2,
     "metadata": {},
     "output_type": "execute_result"
    }
   ],
   "source": [
    "# Define the time period for downloading stock data (10 years)\n",
    "years = 10\n",
    "endDate = dt.date.today()                                         # Current date as the end date\n",
    "startDate = endDate - dt.timedelta(days=365*years)                # Start date is 10 years ago\n",
    "\n",
    "# List of 8 Indian stocks (NSE tickers) for portfolio analysis\n",
    "tickers = ['TATASTEEL.NS', 'BPCL.NS', 'NTPC.NS', 'TCS.NS', 'INFY.NS', 'RELIANCE.NS', 'KOTAKBANK.NS', 'HDFCBANK.NS']\n",
    "\n",
    "# Download the adjusted close prices for the given tickers from Yahoo Finance API\n",
    "adj_close_df = yf.download(tickers, start=startDate, end=endDate)['Adj Close']\n",
    "adj_close_df.head()"
   ]
  },
  {
   "cell_type": "markdown",
   "metadata": {},
   "source": [
    "Log returns are used instead of simple returns because they are time-additive, meaning that the sum of log returns over multiple periods equals the overall return. This property simplifies calculations for multi-period returns."
   ]
  },
  {
   "cell_type": "code",
   "execution_count": 3,
   "metadata": {},
   "outputs": [
    {
     "data": {
      "text/html": [
       "<div>\n",
       "<style scoped>\n",
       "    .dataframe tbody tr th:only-of-type {\n",
       "        vertical-align: middle;\n",
       "    }\n",
       "\n",
       "    .dataframe tbody tr th {\n",
       "        vertical-align: top;\n",
       "    }\n",
       "\n",
       "    .dataframe thead th {\n",
       "        text-align: right;\n",
       "    }\n",
       "</style>\n",
       "<table border=\"1\" class=\"dataframe\">\n",
       "  <thead>\n",
       "    <tr style=\"text-align: right;\">\n",
       "      <th>Ticker</th>\n",
       "      <th>BPCL.NS</th>\n",
       "      <th>HDFCBANK.NS</th>\n",
       "      <th>INFY.NS</th>\n",
       "      <th>KOTAKBANK.NS</th>\n",
       "      <th>NTPC.NS</th>\n",
       "      <th>RELIANCE.NS</th>\n",
       "      <th>TATASTEEL.NS</th>\n",
       "      <th>TCS.NS</th>\n",
       "    </tr>\n",
       "    <tr>\n",
       "      <th>Date</th>\n",
       "      <th></th>\n",
       "      <th></th>\n",
       "      <th></th>\n",
       "      <th></th>\n",
       "      <th></th>\n",
       "      <th></th>\n",
       "      <th></th>\n",
       "      <th></th>\n",
       "    </tr>\n",
       "  </thead>\n",
       "  <tbody>\n",
       "    <tr>\n",
       "      <th>2014-09-15 00:00:00+00:00</th>\n",
       "      <td>0.000293</td>\n",
       "      <td>0.005419</td>\n",
       "      <td>-0.007824</td>\n",
       "      <td>-0.021795</td>\n",
       "      <td>-0.013521</td>\n",
       "      <td>-0.012733</td>\n",
       "      <td>-0.016119</td>\n",
       "      <td>-0.019087</td>\n",
       "    </tr>\n",
       "    <tr>\n",
       "      <th>2014-09-16 00:00:00+00:00</th>\n",
       "      <td>-0.050035</td>\n",
       "      <td>-0.010927</td>\n",
       "      <td>0.002729</td>\n",
       "      <td>-0.017989</td>\n",
       "      <td>-0.027982</td>\n",
       "      <td>-0.023561</td>\n",
       "      <td>-0.035179</td>\n",
       "      <td>-0.002916</td>\n",
       "    </tr>\n",
       "    <tr>\n",
       "      <th>2014-09-17 00:00:00+00:00</th>\n",
       "      <td>-0.017146</td>\n",
       "      <td>-0.005420</td>\n",
       "      <td>0.024297</td>\n",
       "      <td>-0.005367</td>\n",
       "      <td>0.011287</td>\n",
       "      <td>0.009400</td>\n",
       "      <td>0.016691</td>\n",
       "      <td>0.015694</td>\n",
       "    </tr>\n",
       "    <tr>\n",
       "      <th>2014-09-18 00:00:00+00:00</th>\n",
       "      <td>0.035892</td>\n",
       "      <td>0.013787</td>\n",
       "      <td>-0.011845</td>\n",
       "      <td>0.024885</td>\n",
       "      <td>0.024026</td>\n",
       "      <td>0.016303</td>\n",
       "      <td>0.014046</td>\n",
       "      <td>0.019529</td>\n",
       "    </tr>\n",
       "    <tr>\n",
       "      <th>2014-09-19 00:00:00+00:00</th>\n",
       "      <td>-0.007654</td>\n",
       "      <td>0.002444</td>\n",
       "      <td>0.001365</td>\n",
       "      <td>0.015109</td>\n",
       "      <td>0.009813</td>\n",
       "      <td>-0.009448</td>\n",
       "      <td>0.010920</td>\n",
       "      <td>0.026847</td>\n",
       "    </tr>\n",
       "  </tbody>\n",
       "</table>\n",
       "</div>"
      ],
      "text/plain": [
       "Ticker                      BPCL.NS  HDFCBANK.NS   INFY.NS  KOTAKBANK.NS  \\\n",
       "Date                                                                       \n",
       "2014-09-15 00:00:00+00:00  0.000293     0.005419 -0.007824     -0.021795   \n",
       "2014-09-16 00:00:00+00:00 -0.050035    -0.010927  0.002729     -0.017989   \n",
       "2014-09-17 00:00:00+00:00 -0.017146    -0.005420  0.024297     -0.005367   \n",
       "2014-09-18 00:00:00+00:00  0.035892     0.013787 -0.011845      0.024885   \n",
       "2014-09-19 00:00:00+00:00 -0.007654     0.002444  0.001365      0.015109   \n",
       "\n",
       "Ticker                      NTPC.NS  RELIANCE.NS  TATASTEEL.NS    TCS.NS  \n",
       "Date                                                                      \n",
       "2014-09-15 00:00:00+00:00 -0.013521    -0.012733     -0.016119 -0.019087  \n",
       "2014-09-16 00:00:00+00:00 -0.027982    -0.023561     -0.035179 -0.002916  \n",
       "2014-09-17 00:00:00+00:00  0.011287     0.009400      0.016691  0.015694  \n",
       "2014-09-18 00:00:00+00:00  0.024026     0.016303      0.014046  0.019529  \n",
       "2014-09-19 00:00:00+00:00  0.009813    -0.009448      0.010920  0.026847  "
      ]
     },
     "execution_count": 3,
     "metadata": {},
     "output_type": "execute_result"
    }
   ],
   "source": [
    "# Calculate daily log returns (logarithmic returns) of the stock prices\n",
    "daily_log_returns = np.log(adj_close_df / adj_close_df.shift(1))           # log return formula\n",
    "daily_log_returns = daily_log_returns.dropna()                             # Remove any NaN values\n",
    "daily_log_returns.head()"
   ]
  },
  {
   "cell_type": "code",
   "execution_count": 4,
   "metadata": {},
   "outputs": [
    {
     "name": "stdout",
     "output_type": "stream",
     "text": [
      "[0.125 0.125 0.125 0.125 0.125 0.125 0.125 0.125]\n",
      "Date\n",
      "2014-09-15 00:00:00+00:00   -0.010671\n",
      "2014-09-16 00:00:00+00:00   -0.020732\n",
      "2014-09-17 00:00:00+00:00    0.006179\n",
      "2014-09-18 00:00:00+00:00    0.017078\n",
      "2014-09-19 00:00:00+00:00    0.006175\n",
      "                               ...   \n",
      "2024-09-02 00:00:00+00:00   -0.001322\n",
      "2024-09-03 00:00:00+00:00   -0.004041\n",
      "2024-09-04 00:00:00+00:00   -0.001900\n",
      "2024-09-05 00:00:00+00:00   -0.000250\n",
      "2024-09-06 00:00:00+00:00   -0.012637\n",
      "Length: 2459, dtype: float64\n"
     ]
    }
   ],
   "source": [
    "# Assuming an equally weighted portfolio of 100,00,00,000 INR (Rs. 100 Crores)\n",
    "portfolio_value = 1000000000\n",
    "weights = np.array([1/len(tickers)]*len(tickers))                # Equal weights for all stocks\n",
    "print(weights)\n",
    "\n",
    "# Calculate daily portfolio returns using matrix multiplication\n",
    "historical_portfolio_returns = daily_log_returns.dot(weights)\n",
    "print(historical_portfolio_returns)"
   ]
  },
  {
   "cell_type": "markdown",
   "metadata": {},
   "source": [
    "The rolling window sum aggregates returns over a specific time period (here, 10 days) to capture the cumulative performance of the portfolio over that duration. This helps in calculating the Value at Risk (VaR) and Expected Shortfall (ES) for the given time horizons"
   ]
  },
  {
   "cell_type": "code",
   "execution_count": 5,
   "metadata": {},
   "outputs": [
    {
     "name": "stdout",
     "output_type": "stream",
     "text": [
      "Date\n",
      "2014-09-26 00:00:00+00:00   -0.027008\n",
      "2014-09-29 00:00:00+00:00   -0.016536\n",
      "2014-09-30 00:00:00+00:00    0.008299\n",
      "2014-10-01 00:00:00+00:00    0.000494\n",
      "2014-10-07 00:00:00+00:00   -0.022226\n",
      "                               ...   \n",
      "2024-09-02 00:00:00+00:00    0.015717\n",
      "2024-09-03 00:00:00+00:00    0.004492\n",
      "2024-09-04 00:00:00+00:00    0.002135\n",
      "2024-09-05 00:00:00+00:00    0.002086\n",
      "2024-09-06 00:00:00+00:00   -0.008071\n",
      "Length: 2450, dtype: float64\n"
     ]
    }
   ],
   "source": [
    "# Define the time horizon (10 days in this case) for the VaR calculation\n",
    "days = 10\n",
    "\n",
    "# Rolling window sum to get X-day portfolio returns\n",
    "range_returns = historical_portfolio_returns.rolling(window=days).sum()         # 10-day cumulative returns\n",
    "range_returns = range_returns.dropna()                                          # Drop NaN values\n",
    "print(range_returns)"
   ]
  },
  {
   "cell_type": "code",
   "execution_count": 6,
   "metadata": {},
   "outputs": [
    {
     "data": {
      "text/plain": [
       "([np.float64(0.02943309372586484),\n",
       "  np.float64(0.04447155174225776),\n",
       "  np.float64(0.0847746364985313)],\n",
       " [np.float64(29433093.725864843),\n",
       "  np.float64(44471551.74225776),\n",
       "  np.float64(84774636.4985313)])"
      ]
     },
     "execution_count": 6,
     "metadata": {},
     "output_type": "execute_result"
    }
   ],
   "source": [
    "# Confidence levels for VaR analysis (90%, 95%, 99%)\n",
    "confidence_levels = [0.9, 0.95, 0.99]\n",
    "\n",
    "# Calculate VaR for each confidence level\n",
    "VaRs = []                                                   # List to store VaR values\n",
    "\n",
    "for cl in confidence_levels:\n",
    "    VaR = -np.percentile(range_returns, 100 - (cl * 100))   # VaR is negative, so we negate it\n",
    "    VaRs.append(VaR)\n",
    "\n",
    "# Convert the VaR % to INR Values\n",
    "VaRs_inr = []                                               # List to store VaR values in INR\n",
    "\n",
    "for cl in confidence_levels:\n",
    "    VaR_inr = -np.percentile(range_returns, 100 - (cl * 100))*portfolio_value\n",
    "    VaRs_inr.append(VaR_inr)\n",
    "\n",
    "VaRs, VaRs_inr"
   ]
  },
  {
   "cell_type": "code",
   "execution_count": 15,
   "metadata": {},
   "outputs": [
    {
     "data": {
      "image/png": "[encoded data removed]",
      "text/plain": [
       "<Figure size 640x480 with 1 Axes>"
      ]
     },
     "metadata": {},
     "output_type": "display_data"
    },
    {
     "name": "stdout",
     "output_type": "stream",
     "text": [
      "Value at Risk (VaR)\n",
      "--------------------------------------------------\n",
      "Confidence Level    VaR(%)        VaR(INR)\n",
      "--------------------------------------------------\n",
      "      90.0%         2.94%     29433093.73 INR\n",
      "      95.0%         4.45%     44471551.74 INR\n",
      "      99.0%         8.48%      84774636.5 INR\n",
      "--------------------------------------------------\n",
      "Portfolio Value: 1000000000 INR\n",
      "--------------------------------------------------\n"
     ]
    }
   ],
   "source": [
    "# Visualization: Plot histogram of portfolio returns with VaR lines\n",
    "\n",
    "# Convert 10-day returns to INR values\n",
    "range_returns_inr = range_returns * portfolio_value\n",
    "\n",
    "# Create a histogram for the distribution of 10-day returns                                              # Distribution of returns\n",
    "plt.hist(range_returns_inr, bins=30, density=True, alpha=0.8, label=f'{days}-Day Returns')               #Bins are the number of intervals you want to divide all of your data into\n",
    "\n",
    "\n",
    "# Plot VaR lines at each confidence level (90%, 95%, 99%) on the histogram\n",
    "colors = ['yellow', 'orange', 'red']\n",
    "for cl, VaR_inr, color in zip(confidence_levels, VaRs_inr, colors):\n",
    "    plt.axvline(x=-VaR_inr, linestyle=\"--\", color=color, label=f'Var at {cl*100}%')\n",
    "\n",
    "# Set plot labels and title\n",
    "plt.xlabel(f'{days}-Day Portfolio Return [INR]')\n",
    "plt.ylabel(\"Frequency\")\n",
    "plt.title(f'Distribution of Portfolio {days}-Day Returns and Historical VaR Estimates')\n",
    "plt.legend()\n",
    "plt.gcf().axes[0].xaxis.get_major_formatter().set_scientific(False)\n",
    "plt.show()\n",
    "\n",
    "# Print the VaR results in both percentage and INR terms\n",
    "print(\"Value at Risk (VaR)\")\n",
    "print('-' * 50)\n",
    "print(f'{\"Confidence Level\":<20}{\"VaR(%)\":<14}{\"VaR(INR)\"}')\n",
    "print('-' * 50)\n",
    "\n",
    "for cl, VaR, VaR_inr in zip(confidence_levels, VaRs, VaRs_inr):\n",
    "    print(f'{cl * 100:>10}% {round(VaR, 4)*100:>12}% {round(VaR_inr, 2):>15} INR')\n",
    "print('-' * 50)\n",
    "print(f'{\"Portfolio Value: \"}{portfolio_value} INR')\n",
    "print('-' * 50)\n"
   ]
  },
  {
   "cell_type": "code",
   "execution_count": 16,
   "metadata": {},
   "outputs": [],
   "source": [
    "# Expected Shortfall (CVaR) Calculation\n",
    "CVaRs = []\n",
    "\n",
    "# Calculate CVaR for each confidence level by taking the mean of returns beyond VaR\n",
    "for cl, VaR in zip(confidence_levels, VaRs):\n",
    "    tail_loss = range_returns[range_returns < -VaR]         # Tail loss, i.e., returns below VaR threshold\n",
    "    if len(tail_loss) > 0:\n",
    "        CVaR = -np.mean(tail_loss)                          # Take the mean of tail losses\n",
    "    CVaRs.append(CVaR)\n"
   ]
  },
  {
   "cell_type": "code",
   "execution_count": 17,
   "metadata": {},
   "outputs": [
    {
     "name": "stdout",
     "output_type": "stream",
     "text": [
      "Expected Shortfall (ES/CVaR)\n",
      "--------------------------------------------------\n",
      "Confidence Level    CVaR(%)       CVaR(INR)\n",
      "--------------------------------------------------\n",
      "      90.0%          5.7%     57342191.89 INR\n",
      "      95.0%          7.8%     78156932.55 INR\n",
      "      99.0%         15.5%    155347088.21 INR\n",
      "--------------------------------------------------\n",
      "Portfolio Value: 1000000000 INR\n"
     ]
    }
   ],
   "source": [
    "# Convert CVaR values to INR\n",
    "CVaRs_inr = []\n",
    "for cl, VaR in zip(confidence_levels, VaRs):\n",
    "    tail_loss = range_returns[range_returns < -VaR]\n",
    "    if len(tail_loss) > 0:\n",
    "        CVaR_inr = -np.mean(tail_loss)*portfolio_value   # Convert to INR\n",
    "    CVaRs_inr.append(CVaR_inr)\n",
    "\n",
    "# Print the CVaR results\n",
    "print(\"Expected Shortfall (ES/CVaR)\")\n",
    "print('-' * 50)\n",
    "print(f'{\"Confidence Level\":<20}{\"CVaR(%)\":<14}{\"CVaR(INR)\"}')\n",
    "print('-' * 50)\n",
    "\n",
    "for cl, CVaR, CVaR_inr in zip(confidence_levels, CVaRs, CVaRs_inr):\n",
    "    print(f'{cl * 100:>10}% {round(CVaR, 3)*100:>12}% {round(CVaR_inr, 2):>15} INR')\n",
    "print('-' * 50)\n",
    "print(f'{\"Portfolio Value: \"}{portfolio_value} INR')"
   ]
  }
 ],
 "metadata": {
  "kernelspec": {
   "display_name": "Python 3",
   "language": "python",
   "name": "python3"
  },
  "language_info": {
   "codemirror_mode": {
    "name": "ipython",
    "version": 3
   },
   "file_extension": ".py",
   "mimetype": "text/x-python",
   "name": "python",
   "nbconvert_exporter": "python",
   "pygments_lexer": "ipython3",
   "version": "3.12.5"
  }
 },
 "nbformat": 4,
 "nbformat_minor": 2
}
